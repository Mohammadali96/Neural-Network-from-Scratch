{
 "cells": [
  {
   "cell_type": "markdown",
   "id": "a6a88390-8bd0-4fd9-bea1-33aedcd67c49",
   "metadata": {},
   "source": [
    "![Capture1]('C:/Users/Rezaee/Desktop/Capture1.png')"
   ]
  },
  {
   "cell_type": "code",
   "execution_count": 1,
   "id": "9c738fd3-a824-4a1f-9f8f-af8584ab686d",
   "metadata": {},
   "outputs": [],
   "source": [
    "import numpy as np\n",
    "import pandas as pd"
   ]
  },
  {
   "cell_type": "code",
   "execution_count": 6,
   "id": "aa04caba-87c2-4176-849c-0bcd40028072",
   "metadata": {},
   "outputs": [
    {
     "name": "stderr",
     "output_type": "stream",
     "text": [
      "C:\\Users\\Rezaee\\AppData\\Local\\Temp\\ipykernel_14684\\3780404688.py:13: FutureWarning: The 'delim_whitespace' keyword in pd.read_csv is deprecated and will be removed in a future version. Use ``sep='\\s+'`` instead\n",
      "  df = pd.read_csv(filename, skiprows=ncols+2, delim_whitespace= True, names= col_names)\n"
     ]
    }
   ],
   "source": [
    "#_______________Loading Data___________________\n",
    "\n",
    "file = pd.read_excel('F:/KrigNN/SeismicInWells_AllSar10.xlsx')\n",
    "data = file.to_numpy()\n",
    "inputs = data[:, :6]\n",
    "outputs = data[:, 6]\n",
    "\n",
    "def read_gslib(filename:str):\n",
    "    with open(filename, \"r\") as f:\n",
    "        lines = f.readlines()\n",
    "        ncols = int(lines[1].split()[0])\n",
    "        col_names = [lines[i+2].strip() for i in range(ncols)]\n",
    "        df = pd.read_csv(filename, skiprows=ncols+2, delim_whitespace= True, names= col_names)\n",
    "        return df\n",
    "\n",
    "df = read_gslib(filename=\"F:/KrigNN/SeismicWhole_AllSar10\")\n",
    "df.head()\n",
    "data_forpred = df.to_numpy()\n",
    "location = data_forpred[:, :6]\n",
    "#location1 = location[:150000, :]\n",
    "#location2 = location[150000:, :]\n",
    "inputs_forpred = data_forpred[:, 6:]\n",
    "#inputs_forpred_p2 = data_forpred[150000:, 6:]"
   ]
  },
  {
   "cell_type": "code",
   "execution_count": null,
   "id": "e9c3e890-a8b7-4f2c-af14-e71e8ce685d9",
   "metadata": {},
   "outputs": [],
   "source": []
  }
 ],
 "metadata": {
  "kernelspec": {
   "display_name": "Python 3 (ipykernel)",
   "language": "python",
   "name": "python3"
  },
  "language_info": {
   "codemirror_mode": {
    "name": "ipython",
    "version": 3
   },
   "file_extension": ".py",
   "mimetype": "text/x-python",
   "name": "python",
   "nbconvert_exporter": "python",
   "pygments_lexer": "ipython3",
   "version": "3.11.4"
  }
 },
 "nbformat": 4,
 "nbformat_minor": 5
}
